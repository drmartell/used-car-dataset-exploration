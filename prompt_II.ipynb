{
 "cells": [
  {
   "cell_type": "markdown",
   "metadata": {},
   "source": [
    "# What drives the price of a car?\n",
    "\n",
    "![](images/kurt.jpeg)"
   ]
  },
  {
   "cell_type": "markdown",
   "metadata": {},
   "source": [
    "**OVERVIEW**\n",
    "\n",
    "In this application, you will explore a dataset from kaggle. The original dataset contained information on 3 million used cars. The provided dataset contains information on 426K cars to ensure speed of processing.  Your goal is to understand what factors make a car more or less expensive.  As a result of your analysis, you should provide clear recommendations to your client -- a used car dealership -- as to what consumers value in a used car."
   ]
  },
  {
   "cell_type": "markdown",
   "metadata": {},
   "source": [
    "### CRISP-DM Framework\n",
    "\n",
    "<center>\n",
    "    <img src = images/crisp.png width = 50%/>\n",
    "</center>\n",
    "\n",
    "\n",
    "To frame the task, throughout our practical applications we will refer back to a standard process in industry for data projects called CRISP-DM.  This process provides a framework for working through a data problem.  Your first step in this application will be to read through a brief overview of CRISP-DM [here](https://mo-pcco.s3.us-east-1.amazonaws.com/BH-PCMLAI/module_11/readings_starter.zip).  After reading the overview, answer the questions below."
   ]
  },
  {
   "cell_type": "markdown",
   "metadata": {},
   "source": [
    "### Business Understanding\n",
    "\n",
    "From a business perspective, we are tasked with identifying key drivers for used car prices.  In the CRISP-DM overview, we are asked to convert this business framing to a data problem definition.  Using a few sentences, reframe the task as a data task with the appropriate technical vocabulary. "
   ]
  },
  {
   "cell_type": "markdown",
   "metadata": {},
   "source": [
    ">Develop a predictive model that uses historical data on used car transactions to identify and quantify the impact of various attributes (such as make, model, year, mileage, condition, etc.) on the price of used cars. This involves assessing data quality, preparing the data, selecting and applying appropriate modeling techniques, and evaluating model performance to ensure that the key drivers identified are reliable and can inform pricing strategies effectively."
   ]
  },
  {
   "cell_type": "markdown",
   "metadata": {},
   "source": [
    "### Data Understanding\n",
    "\n",
    "After considering the business understanding, we want to get familiar with our data.  Write down some steps that you would take to get to know the dataset and identify any quality issues within.  Take time to get to know the dataset and explore what information it contains and how this could be used to inform your business understanding."
   ]
  },
  {
   "cell_type": "markdown",
   "metadata": {},
   "source": [
    ">Some things to consider are:\n",
    "> 1. Initial Data Collection and Loading: Load the dataset to get an overview of its structure, including the number of rows (entries) and columns (features).\n",
    "> 2. Descriptive Statistics: Generate basic statistics to understand the distribution of data, identify potential outliers, and get a sense of data scales and types.\n",
    "> 3. Data Quality Assessment: Check for missing values, duplicate entries, and inconsistencies in the data, such as illogical values (e.g., negative car mileage).\n",
    "> 4. Exploratory Data Analysis (EDA): Use visualizations to understand relationships between variables, especially how different features might relate to used car prices.\n",
    "> 5. Data Type Check: Ensure that each column is of the correct data type for further analysis (e.g., categorical variables are recognized as such).<br>&nbsp;"
   ]
  },
  {
   "cell_type": "code",
   "execution_count": 1,
   "metadata": {},
   "outputs": [
    {
     "data": {
      "text/html": [
       "<div>\n",
       "<style scoped>\n",
       "    .dataframe tbody tr th:only-of-type {\n",
       "        vertical-align: middle;\n",
       "    }\n",
       "\n",
       "    .dataframe tbody tr th {\n",
       "        vertical-align: top;\n",
       "    }\n",
       "\n",
       "    .dataframe thead th {\n",
       "        text-align: right;\n",
       "    }\n",
       "</style>\n",
       "<table border=\"1\" class=\"dataframe\">\n",
       "  <thead>\n",
       "    <tr style=\"text-align: right;\">\n",
       "      <th></th>\n",
       "      <th>id</th>\n",
       "      <th>region</th>\n",
       "      <th>price</th>\n",
       "      <th>year</th>\n",
       "      <th>manufacturer</th>\n",
       "      <th>model</th>\n",
       "      <th>condition</th>\n",
       "      <th>cylinders</th>\n",
       "      <th>fuel</th>\n",
       "      <th>odometer</th>\n",
       "      <th>title_status</th>\n",
       "      <th>transmission</th>\n",
       "      <th>VIN</th>\n",
       "      <th>drive</th>\n",
       "      <th>size</th>\n",
       "      <th>type</th>\n",
       "      <th>paint_color</th>\n",
       "      <th>state</th>\n",
       "    </tr>\n",
       "  </thead>\n",
       "  <tbody>\n",
       "    <tr>\n",
       "      <th>0</th>\n",
       "      <td>7222695916</td>\n",
       "      <td>prescott</td>\n",
       "      <td>6000</td>\n",
       "      <td>NaN</td>\n",
       "      <td>NaN</td>\n",
       "      <td>NaN</td>\n",
       "      <td>NaN</td>\n",
       "      <td>NaN</td>\n",
       "      <td>NaN</td>\n",
       "      <td>NaN</td>\n",
       "      <td>NaN</td>\n",
       "      <td>NaN</td>\n",
       "      <td>NaN</td>\n",
       "      <td>NaN</td>\n",
       "      <td>NaN</td>\n",
       "      <td>NaN</td>\n",
       "      <td>NaN</td>\n",
       "      <td>az</td>\n",
       "    </tr>\n",
       "    <tr>\n",
       "      <th>1</th>\n",
       "      <td>7218891961</td>\n",
       "      <td>fayetteville</td>\n",
       "      <td>11900</td>\n",
       "      <td>NaN</td>\n",
       "      <td>NaN</td>\n",
       "      <td>NaN</td>\n",
       "      <td>NaN</td>\n",
       "      <td>NaN</td>\n",
       "      <td>NaN</td>\n",
       "      <td>NaN</td>\n",
       "      <td>NaN</td>\n",
       "      <td>NaN</td>\n",
       "      <td>NaN</td>\n",
       "      <td>NaN</td>\n",
       "      <td>NaN</td>\n",
       "      <td>NaN</td>\n",
       "      <td>NaN</td>\n",
       "      <td>ar</td>\n",
       "    </tr>\n",
       "    <tr>\n",
       "      <th>2</th>\n",
       "      <td>7221797935</td>\n",
       "      <td>florida keys</td>\n",
       "      <td>21000</td>\n",
       "      <td>NaN</td>\n",
       "      <td>NaN</td>\n",
       "      <td>NaN</td>\n",
       "      <td>NaN</td>\n",
       "      <td>NaN</td>\n",
       "      <td>NaN</td>\n",
       "      <td>NaN</td>\n",
       "      <td>NaN</td>\n",
       "      <td>NaN</td>\n",
       "      <td>NaN</td>\n",
       "      <td>NaN</td>\n",
       "      <td>NaN</td>\n",
       "      <td>NaN</td>\n",
       "      <td>NaN</td>\n",
       "      <td>fl</td>\n",
       "    </tr>\n",
       "    <tr>\n",
       "      <th>3</th>\n",
       "      <td>7222270760</td>\n",
       "      <td>worcester / central MA</td>\n",
       "      <td>1500</td>\n",
       "      <td>NaN</td>\n",
       "      <td>NaN</td>\n",
       "      <td>NaN</td>\n",
       "      <td>NaN</td>\n",
       "      <td>NaN</td>\n",
       "      <td>NaN</td>\n",
       "      <td>NaN</td>\n",
       "      <td>NaN</td>\n",
       "      <td>NaN</td>\n",
       "      <td>NaN</td>\n",
       "      <td>NaN</td>\n",
       "      <td>NaN</td>\n",
       "      <td>NaN</td>\n",
       "      <td>NaN</td>\n",
       "      <td>ma</td>\n",
       "    </tr>\n",
       "    <tr>\n",
       "      <th>4</th>\n",
       "      <td>7210384030</td>\n",
       "      <td>greensboro</td>\n",
       "      <td>4900</td>\n",
       "      <td>NaN</td>\n",
       "      <td>NaN</td>\n",
       "      <td>NaN</td>\n",
       "      <td>NaN</td>\n",
       "      <td>NaN</td>\n",
       "      <td>NaN</td>\n",
       "      <td>NaN</td>\n",
       "      <td>NaN</td>\n",
       "      <td>NaN</td>\n",
       "      <td>NaN</td>\n",
       "      <td>NaN</td>\n",
       "      <td>NaN</td>\n",
       "      <td>NaN</td>\n",
       "      <td>NaN</td>\n",
       "      <td>nc</td>\n",
       "    </tr>\n",
       "  </tbody>\n",
       "</table>\n",
       "</div>"
      ],
      "text/plain": [
       "           id                  region  price  year manufacturer model  \\\n",
       "0  7222695916                prescott   6000   NaN          NaN   NaN   \n",
       "1  7218891961            fayetteville  11900   NaN          NaN   NaN   \n",
       "2  7221797935            florida keys  21000   NaN          NaN   NaN   \n",
       "3  7222270760  worcester / central MA   1500   NaN          NaN   NaN   \n",
       "4  7210384030              greensboro   4900   NaN          NaN   NaN   \n",
       "\n",
       "  condition cylinders fuel  odometer title_status transmission  VIN drive  \\\n",
       "0       NaN       NaN  NaN       NaN          NaN          NaN  NaN   NaN   \n",
       "1       NaN       NaN  NaN       NaN          NaN          NaN  NaN   NaN   \n",
       "2       NaN       NaN  NaN       NaN          NaN          NaN  NaN   NaN   \n",
       "3       NaN       NaN  NaN       NaN          NaN          NaN  NaN   NaN   \n",
       "4       NaN       NaN  NaN       NaN          NaN          NaN  NaN   NaN   \n",
       "\n",
       "  size type paint_color state  \n",
       "0  NaN  NaN         NaN    az  \n",
       "1  NaN  NaN         NaN    ar  \n",
       "2  NaN  NaN         NaN    fl  \n",
       "3  NaN  NaN         NaN    ma  \n",
       "4  NaN  NaN         NaN    nc  "
      ]
     },
     "execution_count": 1,
     "metadata": {},
     "output_type": "execute_result"
    }
   ],
   "source": [
    "import pandas as pd\n",
    "import numpy as np\n",
    "from sklearn.model_selection import train_test_split\n",
    "\n",
    "# Step 1: Load the data\n",
    "vehicles = pd.read_csv('data/vehicles.csv')\n",
    "vehicles.head()\n",
    "\n"
   ]
  },
  {
   "cell_type": "code",
   "execution_count": 16,
   "metadata": {},
   "outputs": [],
   "source": [
    "import pandas as pd\n",
    "\n",
    "# Step 1: Load your CSV file into a DataFrame\n",
    "df = pd.read_csv('data/vehicles.csv')  # Replace 'path_to_your_file.csv' with your actual file path\n",
    "\n",
    "# Step 2: Drop rows with any missing values\n",
    "cleaned_df = df.dropna()\n",
    "\n",
    "# Step 3: Save the cleaned DataFrame to a new CSV file\n",
    "cleaned_df.to_csv('data/vehicles-no-na.csv', index=False)  # 'index=False' ensures that pandas doesn't write row indices into the CSV file\n"
   ]
  },
  {
   "cell_type": "code",
   "execution_count": 2,
   "metadata": {},
   "outputs": [
    {
     "name": "stdout",
     "output_type": "stream",
     "text": [
      "                  id    region         price           year manufacturer  \\\n",
      "count   4.268800e+05    426880  4.268800e+05  425675.000000       409234   \n",
      "unique           NaN       404           NaN            NaN           42   \n",
      "top              NaN  columbus           NaN            NaN         ford   \n",
      "freq             NaN      3608           NaN            NaN        70985   \n",
      "mean    7.311487e+09       NaN  7.519903e+04    2011.235191          NaN   \n",
      "std     4.473170e+06       NaN  1.218228e+07       9.452120          NaN   \n",
      "min     7.207408e+09       NaN  0.000000e+00    1900.000000          NaN   \n",
      "25%     7.308143e+09       NaN  5.900000e+03    2008.000000          NaN   \n",
      "50%     7.312621e+09       NaN  1.395000e+04    2013.000000          NaN   \n",
      "75%     7.315254e+09       NaN  2.648575e+04    2017.000000          NaN   \n",
      "max     7.317101e+09       NaN  3.736929e+09    2022.000000          NaN   \n",
      "\n",
      "         model condition    cylinders    fuel      odometer title_status  \\\n",
      "count   421603    252776       249202  423867  4.224800e+05       418638   \n",
      "unique   29649         6            8       5           NaN            6   \n",
      "top      f-150      good  6 cylinders     gas           NaN        clean   \n",
      "freq      8009    121456        94169  356209           NaN       405117   \n",
      "mean       NaN       NaN          NaN     NaN  9.804333e+04          NaN   \n",
      "std        NaN       NaN          NaN     NaN  2.138815e+05          NaN   \n",
      "min        NaN       NaN          NaN     NaN  0.000000e+00          NaN   \n",
      "25%        NaN       NaN          NaN     NaN  3.770400e+04          NaN   \n",
      "50%        NaN       NaN          NaN     NaN  8.554800e+04          NaN   \n",
      "75%        NaN       NaN          NaN     NaN  1.335425e+05          NaN   \n",
      "max        NaN       NaN          NaN     NaN  1.000000e+07          NaN   \n",
      "\n",
      "       transmission                VIN   drive       size    type paint_color  \\\n",
      "count        424324             265838  296313     120519  334022      296677   \n",
      "unique            3             118246       3          4      13          12   \n",
      "top       automatic  1FMJU1JT1HEA52352     4wd  full-size   sedan       white   \n",
      "freq         336524                261  131904      63465   87056       79285   \n",
      "mean            NaN                NaN     NaN        NaN     NaN         NaN   \n",
      "std             NaN                NaN     NaN        NaN     NaN         NaN   \n",
      "min             NaN                NaN     NaN        NaN     NaN         NaN   \n",
      "25%             NaN                NaN     NaN        NaN     NaN         NaN   \n",
      "50%             NaN                NaN     NaN        NaN     NaN         NaN   \n",
      "75%             NaN                NaN     NaN        NaN     NaN         NaN   \n",
      "max             NaN                NaN     NaN        NaN     NaN         NaN   \n",
      "\n",
      "         state  \n",
      "count   426880  \n",
      "unique      51  \n",
      "top         ca  \n",
      "freq     50614  \n",
      "mean       NaN  \n",
      "std        NaN  \n",
      "min        NaN  \n",
      "25%        NaN  \n",
      "50%        NaN  \n",
      "75%        NaN  \n",
      "max        NaN  \n",
      "\n",
      "Data types:\n",
      " id                int64\n",
      "region           object\n",
      "price             int64\n",
      "year            float64\n",
      "manufacturer     object\n",
      "model            object\n",
      "condition        object\n",
      "cylinders        object\n",
      "fuel             object\n",
      "odometer        float64\n",
      "title_status     object\n",
      "transmission     object\n",
      "VIN              object\n",
      "drive            object\n",
      "size             object\n",
      "type             object\n",
      "paint_color      object\n",
      "state            object\n",
      "dtype: object\n"
     ]
    }
   ],
   "source": [
    "# Step 2: Descriptive statistics\n",
    "print(vehicles.describe(include='all'))\n",
    "print(\"\\nData types:\\n\", vehicles.dtypes)"
   ]
  },
  {
   "cell_type": "code",
   "execution_count": 3,
   "metadata": {},
   "outputs": [
    {
     "name": "stdout",
     "output_type": "stream",
     "text": [
      "\n",
      "Missing values:\n",
      " id                   0\n",
      "region               0\n",
      "price                0\n",
      "year              1205\n",
      "manufacturer     17646\n",
      "model             5277\n",
      "condition       174104\n",
      "cylinders       177678\n",
      "fuel              3013\n",
      "odometer          4400\n",
      "title_status      8242\n",
      "transmission      2556\n",
      "VIN             161042\n",
      "drive           130567\n",
      "size            306361\n",
      "type             92858\n",
      "paint_color     130203\n",
      "state                0\n",
      "dtype: int64\n"
     ]
    }
   ],
   "source": [
    "import matplotlib.pyplot as plt\n",
    "\n",
    "# Step 3: Data Quality Assessment\n",
    "# Checking for missing values\n",
    "print(\"\\nMissing values:\\n\", vehicles.isnull().sum())\n"
   ]
  },
  {
   "cell_type": "code",
   "execution_count": 4,
   "metadata": {},
   "outputs": [
    {
     "name": "stdout",
     "output_type": "stream",
     "text": [
      "Percentage of rows with any missing values: 91.83%\n"
     ]
    }
   ],
   "source": [
    "# Calculate the percentage of rows with any missing values\n",
    "percentage_missing = vehicles.isnull().any(axis=1).mean() * 100\n",
    "\n",
    "print(f\"Percentage of rows with any missing values: {percentage_missing:.2f}%\")"
   ]
  },
  {
   "cell_type": "code",
   "execution_count": 5,
   "metadata": {},
   "outputs": [
    {
     "name": "stdout",
     "output_type": "stream",
     "text": [
      "\n",
      "Number of duplicate rows: 0\n"
     ]
    }
   ],
   "source": [
    "# Checking for duplicates\n",
    "print(\"\\nNumber of duplicate rows:\", vehicles.duplicated().sum())\n"
   ]
  },
  {
   "cell_type": "markdown",
   "metadata": {},
   "source": [
    "### Data Preparation\n",
    "\n",
    "After our initial exploration and fine tuning of the business understanding, it is time to construct our final dataset prior to modeling.  Here, we want to make sure to handle any integrity issues and cleaning, the engineering of new features, any transformations that we believe should happen (scaling, logarithms, normalization, etc.), and general preparation for modeling with `sklearn`. "
   ]
  },
  {
   "cell_type": "markdown",
   "metadata": {},
   "source": [
    "#### Handling Missing Values"
   ]
  },
  {
   "cell_type": "code",
   "execution_count": 6,
   "metadata": {},
   "outputs": [],
   "source": [
    "# For categorical data, fill missing values with 'Unknown'\n",
    "categorical_columns = ['region', 'manufacturer', 'model', 'condition', 'cylinders', 'fuel', 'title_status', 'transmission', 'drive', 'size', 'type', 'paint_color', 'state']\n",
    "essential_columns = ['manufacturer', 'model', 'condition', 'odometer']\n",
    "removable_columns = [column for column in categorical_columns if column not in essential_columns]\n",
    "\n",
    "for column in categorical_columns:\n",
    "    vehicles[column].fillna('Unknown', inplace=True)\n",
    "\n",
    "# For 'year' and 'odometer', fill missing values with the median of their respective columns\n",
    "vehicles['year'].fillna(vehicles['year'].median(), inplace=True)\n",
    "vehicles['odometer'].fillna(vehicles['odometer'].median(), inplace=True)\n",
    "\n",
    "# Although 'VIN' encodes the manufacturer, year, make and model, and the trim level including unique features and specifications, I'm dropping it here because it's not useful for analysis in encoded form\n",
    "vehicles.drop('VIN', axis=1, inplace=True)\n"
   ]
  },
  {
   "cell_type": "markdown",
   "metadata": {},
   "source": [
    "#### Outlier Handling"
   ]
  },
  {
   "cell_type": "code",
   "execution_count": 7,
   "metadata": {},
   "outputs": [
    {
     "name": "stdout",
     "output_type": "stream",
     "text": [
      "Percentage of the dataset removed: 1.56%\n"
     ]
    }
   ],
   "source": [
    "original_size = len(vehicles)\n",
    "\n",
    "# Remove outliers with generous multiplier of interquartile range\n",
    "for column in ['price', 'odometer']:\n",
    "    Q1 = vehicles[column].quantile(0.25)\n",
    "    Q3 = vehicles[column].quantile(0.75)\n",
    "    IQR = Q3 - Q1\n",
    "    lower_bound = 0\n",
    "    upper_bound = Q3 + 2 * IQR\n",
    "    vehicles = vehicles[(vehicles[column] >= lower_bound) & (vehicles[column] <= upper_bound)]\n",
    "\n",
    "new_size = len(vehicles)\n",
    "percentage_removed = ((original_size - new_size) / original_size) * 100\n",
    "print(f\"Percentage of the dataset removed: {percentage_removed:.2f}%\")"
   ]
  },
  {
   "cell_type": "markdown",
   "metadata": {},
   "source": [
    "#### Feature Engineering"
   ]
  },
  {
   "cell_type": "code",
   "execution_count": 8,
   "metadata": {},
   "outputs": [],
   "source": [
    "# Max year is 2022\n",
    "vehicles['vehicle_age'] = 2022 - vehicles['year']\n",
    "vehicles.drop('year', axis=1, inplace=True)  # Dropping the 'year' column as 'vehicle_age' is more relevant"
   ]
  },
  {
   "cell_type": "markdown",
   "metadata": {},
   "source": [
    "#### Scaling Numerical Features"
   ]
  },
  {
   "cell_type": "code",
   "execution_count": 9,
   "metadata": {},
   "outputs": [],
   "source": [
    "from sklearn.preprocessing import StandardScaler\n",
    "\n",
    "# Scaling 'odometer' and 'vehicle_age'\n",
    "scaler = StandardScaler()\n",
    "vehicles[['odometer', 'vehicle_age']] = scaler.fit_transform(vehicles[['odometer', 'vehicle_age']])\n"
   ]
  },
  {
   "cell_type": "markdown",
   "metadata": {},
   "source": [
    "#### Transforming Skewed Data"
   ]
  },
  {
   "cell_type": "code",
   "execution_count": 10,
   "metadata": {},
   "outputs": [],
   "source": [
    "# Applying log transformation to 'price' to handle skewness\n",
    "vehicles['price'] = np.log1p(vehicles['price'])"
   ]
  },
  {
   "cell_type": "markdown",
   "metadata": {},
   "source": [
    "#### Encoding Categorical Variables"
   ]
  },
  {
   "cell_type": "code",
   "execution_count": 11,
   "metadata": {},
   "outputs": [],
   "source": [
    "# vehicles = pd.get_dummies(vehicles, columns=categorical_columns)\n",
    "vehicles = pd.get_dummies(vehicles, columns=['manufacturer', 'model', 'condition'])\n",
    "vehicles.drop(removable_columns, axis=1, inplace=True)"
   ]
  },
  {
   "cell_type": "markdown",
   "metadata": {},
   "source": [
    "#### Splitting the Data"
   ]
  },
  {
   "cell_type": "code",
   "execution_count": 12,
   "metadata": {},
   "outputs": [],
   "source": [
    "X = vehicles.drop('price', axis=1)\n",
    "y = vehicles['price']\n",
    "\n",
    "# Splitting the dataset into training and testing sets\n",
    "X_train, X_test, y_train, y_test = train_test_split(X, y, test_size=0.2, random_state=42)\n"
   ]
  },
  {
   "cell_type": "code",
   "execution_count": 14,
   "metadata": {},
   "outputs": [
    {
     "name": "stdout",
     "output_type": "stream",
     "text": [
      "(336187, 28771)\n",
      "id                        int64\n",
      "odometer                float64\n",
      "vehicle_age             float64\n",
      "manufacturer_Unknown       bool\n",
      "manufacturer_acura         bool\n",
      "                         ...   \n",
      "condition_fair             bool\n",
      "condition_good             bool\n",
      "condition_like new         bool\n",
      "condition_new              bool\n",
      "condition_salvage          bool\n",
      "Length: 28771, dtype: object\n",
      "(336187,)\n",
      "float64\n"
     ]
    }
   ],
   "source": [
    "print(X_train.shape)\n",
    "print(X_train.dtypes)\n",
    "print(y_train.shape)\n",
    "print(y_train.dtypes)"
   ]
  },
  {
   "cell_type": "markdown",
   "metadata": {},
   "source": [
    "### Modeling\n",
    "\n",
    "With your (almost?) final dataset in hand, it is now time to build some models.  Here, you should build a number of different regression models with the price as the target.  In building your models, you should explore different parameters and be sure to cross-validate your findings."
   ]
  },
  {
   "cell_type": "code",
   "execution_count": 18,
   "metadata": {},
   "outputs": [
    {
     "name": "stderr",
     "output_type": "stream",
     "text": [
      "e:\\Users\\drmartell\\anaconda3\\Lib\\site-packages\\sklearn\\preprocessing\\_encoders.py:972: FutureWarning: `sparse` was renamed to `sparse_output` in version 1.2 and will be removed in 1.4. `sparse_output` is ignored unless you leave `sparse` to its default value.\n",
      "  warnings.warn(\n"
     ]
    },
    {
     "name": "stdout",
     "output_type": "stream",
     "text": [
      "Linear Regression MSE: 6.446716720141209e-07\n",
      "Ridge Regression MSE: 6.446717368659554e-07\n",
      "Lasso Regression MSE: 8.130016942170184e-05\n"
     ]
    }
   ],
   "source": [
    "import pandas as pd\n",
    "import numpy as np\n",
    "from sklearn.model_selection import train_test_split\n",
    "from sklearn.linear_model import LinearRegression, Ridge, Lasso\n",
    "from sklearn.metrics import mean_squared_error\n",
    "from sklearn.preprocessing import OneHotEncoder\n",
    "from sklearn.compose import ColumnTransformer\n",
    "\n",
    "file_path = 'data/vehicles-no-na.csv'\n",
    "data = pd.read_csv(file_path)\n",
    "\n",
    "# Data Preparation\n",
    "# Drop irrelevant features and limit the 'model' categories\n",
    "data_prepared = data.drop(['id', 'VIN', 'region', 'state'], axis=1)\n",
    "top_models = data_prepared['model'].value_counts().nlargest(100).index\n",
    "data_prepared['model'] = data_prepared['model'].where(data_prepared['model'].isin(top_models), 'other')\n",
    "\n",
    "# Apply one-hot encoding with sparse matrices\n",
    "categorical_columns = data_prepared.select_dtypes(include=['object']).columns\n",
    "column_transformer_sparse = ColumnTransformer([\n",
    "    (\"one_hot\", OneHotEncoder(sparse=True, handle_unknown='ignore'), categorical_columns)\n",
    "], remainder='passthrough')\n",
    "data_transformed_sparse = column_transformer_sparse.fit_transform(data_prepared)\n",
    "\n",
    "# Extract price and odometer for outlier detection and removal\n",
    "price = data_prepared['price'].values\n",
    "odometer = data_prepared['odometer'].values\n",
    "\n",
    "def detect_outliers(data):\n",
    "    Q1 = np.percentile(data, 25)\n",
    "    Q3 = np.percentile(data, 75)\n",
    "    IQR = Q3 - Q1\n",
    "    outlier_step = 1.5 * IQR\n",
    "    return (data < 0) | (data > Q3 + outlier_step)\n",
    "\n",
    "outliers_price = detect_outliers(price)\n",
    "outliers_odometer = detect_outliers(odometer)\n",
    "outliers = outliers_price | outliers_odometer\n",
    "data_transformed_clean = data_transformed_sparse[~outliers]\n",
    "price_clean = price[~outliers]\n",
    "\n",
    "# Split the data into training and test sets\n",
    "X_train, X_test, y_train, y_test = train_test_split(data_transformed_clean, price_clean, test_size=0.2, random_state=42)\n",
    "\n",
    "# Initialize and train the models\n",
    "linear_model = LinearRegression()\n",
    "ridge_model = Ridge()\n",
    "lasso_model = Lasso()\n",
    "\n",
    "linear_model.fit(X_train, y_train)\n",
    "ridge_model.fit(X_train, y_train)\n",
    "lasso_model.fit(X_train, y_train)\n",
    "\n",
    "# Predict and evaluate the models\n",
    "y_pred_linear = linear_model.predict(X_test)\n",
    "y_pred_ridge = ridge_model.predict(X_test)\n",
    "y_pred_lasso = lasso_model.predict(X_test)\n",
    "\n",
    "mse_linear = mean_squared_error(y_test, y_pred_linear)\n",
    "mse_ridge = mean_squared_error(y_test, y_pred_ridge)\n",
    "mse_lasso = mean_squared_error(y_test, y_pred_lasso)\n",
    "\n",
    "print(\"Linear Regression MSE:\", mse_linear)\n",
    "print(\"Ridge Regression MSE:\", mse_ridge)\n",
    "print(\"Lasso Regression MSE:\", mse_lasso)\n"
   ]
  },
  {
   "cell_type": "code",
   "execution_count": 27,
   "metadata": {},
   "outputs": [
    {
     "name": "stdout",
     "output_type": "stream",
     "text": [
      "Lasso Regression MSE: 89245282.72411992\n",
      "                       Feature   Coefficient\n",
      "11        manufacturer_ferrari  64576.217948\n",
      "2    manufacturer_aston-martin  29790.122680\n",
      "37          manufacturer_tesla  20236.495533\n",
      "32        manufacturer_porsche  15484.120960\n",
      "120     model_silverado 3500hd  11169.271901\n",
      "..                         ...           ...\n",
      "108               model_ranger  -6702.439424\n",
      "41                  model_1500  -6838.256422\n",
      "60              model_colorado  -7058.151467\n",
      "83              model_f-250 sd  -9241.661014\n",
      "169         transmission_other -11310.774532\n",
      "\n",
      "[175 rows x 2 columns]\n"
     ]
    }
   ],
   "source": [
    "import pandas as pd\n",
    "import numpy as np\n",
    "from sklearn.model_selection import train_test_split\n",
    "from sklearn.linear_model import Lasso\n",
    "from sklearn.preprocessing import OneHotEncoder\n",
    "from sklearn.compose import ColumnTransformer\n",
    "\n",
    "file_path = 'data/vehicles-no-na.csv'\n",
    "data = pd.read_csv(file_path)\n",
    "\n",
    "# Prepare the data by dropping irrelevant features and limiting 'model' categories\n",
    "data_prepared = data.drop(['id', 'VIN', 'region', 'state', 'price'], axis=1)  # Exclude 'price' from features\n",
    "top_models = data_prepared['model'].value_counts().nlargest(100).index\n",
    "data_prepared['model'] = data_prepared['model'].where(data_prepared['model'].isin(top_models), 'other')\n",
    "\n",
    "# Categorical columns excluding 'price'\n",
    "categorical_columns = data_prepared.select_dtypes(include=['object']).columns\n",
    "\n",
    "# Apply one-hot encoding with sparse matrices to features excluding 'price'\n",
    "column_transformer_sparse = ColumnTransformer([\n",
    "    (\"one_hot\", OneHotEncoder(sparse_output=True, handle_unknown='ignore'), categorical_columns)\n",
    "], remainder='passthrough')\n",
    "data_transformed_sparse = column_transformer_sparse.fit_transform(data_prepared)\n",
    "\n",
    "# Extract 'odometer' for outlier detection and removal\n",
    "odometer = data_prepared['odometer'].values\n",
    "\n",
    "# Function to detect outliers\n",
    "def detect_outliers(data):\n",
    "    Q1 = np.percentile(data, 25)\n",
    "    Q3 = np.percentile(data, 75)\n",
    "    IQR = Q3 - Q1\n",
    "    outlier_step = 1.5 * IQR\n",
    "    return (data < 0) | (data > Q3 + outlier_step)\n",
    "\n",
    "# Detect and remove outliers based on 'odometer'\n",
    "outliers_odometer = detect_outliers(odometer)\n",
    "data_transformed_clean = data_transformed_sparse[~outliers_odometer]\n",
    "price_clean = data['price'].values[~outliers_odometer]  # Target variable\n",
    "\n",
    "# Split the data into training and test sets\n",
    "X_train, X_test, y_train, y_test = train_test_split(data_transformed_clean, price_clean, test_size=0.2, random_state=42)\n",
    "\n",
    "# Train the Lasso regression model only\n",
    "lasso_model = Lasso()\n",
    "lasso_model.fit(X_train, y_train)\n",
    "y_pred_lasso = lasso_model.predict(X_test)\n",
    "mse_lasso = mean_squared_error(y_test, y_pred_lasso)\n",
    "print(\"Lasso Regression MSE:\", mse_lasso)\n",
    "\n",
    "# Extract feature names from the ColumnTransformer\n",
    "feature_names = column_transformer_sparse.named_transformers_['one_hot'].get_feature_names_out(categorical_columns)\n",
    "feature_names = np.concatenate([feature_names, data_prepared.columns.drop(categorical_columns)])\n",
    "\n",
    "# Extract Lasso coefficients\n",
    "lasso_coefficients = lasso_model.coef_\n",
    "\n",
    "# Map coefficients to feature names\n",
    "feature_contributions = pd.DataFrame({'Feature': feature_names, 'Coefficient': lasso_coefficients})\n",
    "\n",
    "# Display non-zero coefficients for features contributing to the model\n",
    "non_zero_features = feature_contributions[feature_contributions['Coefficient'] != 0].sort_values(by='Coefficient', ascending=False)\n",
    "print(non_zero_features)\n"
   ]
  },
  {
   "cell_type": "code",
   "execution_count": 25,
   "metadata": {},
   "outputs": [
    {
     "data": {
      "image/png": "[encoded data removed]",
      "text/plain": [
       "<Figure size 1000x600 with 1 Axes>"
      ]
     },
     "metadata": {},
     "output_type": "display_data"
    }
   ],
   "source": [
    "import matplotlib.pyplot as plt\n",
    "import seaborn as sns\n",
    "\n",
    "top_n = 10\n",
    "top_features = non_zero_features.head(top_n)\n",
    "\n",
    "plt.figure(figsize=(10, 6))\n",
    "sns.barplot(x='Coefficient', y='Feature', data=top_features, orient='h')\n",
    "plt.title('Top 10 Important Features Influencing Car Prices')\n",
    "plt.xlabel('Importance (Coefficient Value)')\n",
    "plt.ylabel('Features')\n",
    "plt.savefig('images/important_features.png', dpi=300, bbox_inches='tight')\n",
    "plt.show()"
   ]
  },
  {
   "cell_type": "markdown",
   "metadata": {},
   "source": [
    "### Evaluation\n",
    "\n",
    "With some modeling accomplished, we aim to reflect on what we identify as a high quality model and what we are able to learn from this.  We should review our business objective and explore how well we can provide meaningful insight on drivers of used car prices.  Your goal now is to distill your findings and determine whether the earlier phases need revisitation and adjustment or if you have information of value to bring back to your client."
   ]
  },
  {
   "cell_type": "markdown",
   "metadata": {},
   "source": [
    "Modeling without sparse data approaches proved too memory intensive. Since there's no reason why dealers couldn't collect complete data on vehicles going forward, I chose to make use of a subset of the provided data that did not have any missing values. These combined approaches allowed for model training to complete."
   ]
  },
  {
   "cell_type": "markdown",
   "metadata": {},
   "source": [
    "### Deployment\n",
    "\n",
    "Now that we've settled on our models and findings, it is time to deliver the information to the client.  You should organize your work as a basic report that details your primary findings.  Keep in mind that your audience is a group of used car dealers interested in fine tuning their inventory."
   ]
  },
  {
   "cell_type": "markdown",
   "metadata": {},
   "source": [
    "We were able to generate a pricing approach based on the data provided.\n",
    "Although it isn't highly precise, it can help create estimated prices to within +/- $10K.\n",
    "\n",
    "As may not be too surprising, when looking at the most influencial factors we see things like luxury brands, and atypical vehicles.\n",
    "\n",
    "![Top Ten Determinants of Vehicle Price](images/important_features.png)\n",
    "\n",
    "With continued additions to this dataset, it's accuracy can be expected to improve over time.\n"
   ]
  }
 ],
 "metadata": {
  "kernelspec": {
   "display_name": "Python 3",
   "language": "python",
   "name": "python3"
  },
  "language_info": {
   "codemirror_mode": {
    "name": "ipython",
    "version": 3
   },
   "file_extension": ".py",
   "mimetype": "text/x-python",
   "name": "python",
   "nbconvert_exporter": "python",
   "pygments_lexer": "ipython3",
   "version": "3.11.5"
  },
  "widgets": {
   "application/vnd.jupyter.widget-state+json": {
    "state": {},
    "version_major": 2,
    "version_minor": 0
   }
  }
 },
 "nbformat": 4,
 "nbformat_minor": 4
}
